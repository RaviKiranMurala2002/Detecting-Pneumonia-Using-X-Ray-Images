{
 "cells": [
  {
   "cell_type": "markdown",
   "id": "4833012d-f42b-4a88-9aae-2277bedbfe21",
   "metadata": {},
   "source": [
    "# Import Dependencies.."
   ]
  },
  {
   "cell_type": "code",
   "execution_count": 1,
   "id": "d27270c7-2a12-4b57-bde9-070a2261c5a0",
   "metadata": {},
   "outputs": [],
   "source": [
    "import warnings\n",
    "warnings.filterwarnings('ignore')"
   ]
  },
  {
   "cell_type": "code",
   "execution_count": 3,
   "id": "02bf4f39-f731-44c1-98e8-b72734146d84",
   "metadata": {},
   "outputs": [],
   "source": [
    "# import tensorflow as tf..\n",
    "from tensorflow import keras"
   ]
  },
  {
   "cell_type": "code",
   "execution_count": 4,
   "id": "8d7b7546-ac32-4476-a915-0d26e1cd20de",
   "metadata": {},
   "outputs": [],
   "source": [
    "from keras.layers import Input, Lambda, Dense, Flatten"
   ]
  },
  {
   "cell_type": "markdown",
   "id": "2a24c933-8a98-47c2-897f-c8a31f566e1c",
   "metadata": {},
   "source": [
    "# Using TensorFlow Backend..."
   ]
  },
  {
   "cell_type": "code",
   "execution_count": 5,
   "id": "1792cc58-b879-4fa7-93d9-2919a8eaddfc",
   "metadata": {},
   "outputs": [],
   "source": [
    "from keras.models import Model\n",
    "from keras.applications.vgg16 import VGG16, preprocess_input    #Visual Geometry Group, with 16 Convolutional Layers...\n",
    "from keras.preprocessing import image\n",
    "from keras.preprocessing.image import ImageDataGenerator\n",
    "from keras.models import Sequential\n",
    "import numpy as np\n",
    "\n",
    "# In Python, the 'glob' module is used similarly to find, locate, and search, for all of the files that are present in a system..\n",
    "from glob import glob\n",
    "\n",
    "import matplotlib.pyplot as plt"
   ]
  },
  {
   "cell_type": "markdown",
   "id": "9d1c7864-c51a-4c7b-b0a0-ca956641de59",
   "metadata": {},
   "source": [
    "# Define the paths for Training and Test datasets..."
   ]
  },
  {
   "cell_type": "code",
   "execution_count": 6,
   "id": "26bbb17c-ae0c-4f87-8a2c-c7fdf62200a9",
   "metadata": {},
   "outputs": [],
   "source": [
    "IMAGE_SIZE = [224, 224]\n",
    "\n",
    "train_path = \"E:\\Pneumonia Detection using X- Ray Images\\chest x-ray images\\train\"\n",
    "test_path = \"E:\\Pneumonia Detection using X- Ray Images\\chest x-ray images\\test\""
   ]
  },
  {
   "cell_type": "code",
   "execution_count": 8,
   "id": "542e1383-df14-439c-84ab-5a4ca222b300",
   "metadata": {},
   "outputs": [],
   "source": [
    "vgg = VGG16(input_shape=IMAGE_SIZE + [3], weights=\"imagenet\", include_top=False)"
   ]
  },
  {
   "cell_type": "code",
   "execution_count": 9,
   "id": "88584358-03fd-42e0-91b6-17af4c15d788",
   "metadata": {},
   "outputs": [],
   "source": [
    "for layer in vgg.layers:\n",
    "    layer.trainable = False"
   ]
  },
  {
   "cell_type": "markdown",
   "id": "b6b41575-e9d3-4474-b105-75139d05b20a",
   "metadata": {},
   "source": [
    "# In TensorFlow, setting \"layer.trainable = False\" freezes a layer by preventing its weights from being updated during training. This is also known as \"freezing\" the layer..."
   ]
  },
  {
   "cell_type": "code",
   "execution_count": 10,
   "id": "2876a25a-7f25-4995-bafc-0a8ea4af5085",
   "metadata": {},
   "outputs": [],
   "source": [
    "folders = glob(\"chest x-ray images/train/*\")\n",
    "x = Flatten()(vgg.output)"
   ]
  },
  {
   "cell_type": "code",
   "execution_count": 11,
   "id": "b8840625-d010-44ec-b539-bb99dd16f66e",
   "metadata": {},
   "outputs": [
    {
     "name": "stdout",
     "output_type": "stream",
     "text": [
      "Model: \"model\"\n",
      "_________________________________________________________________\n",
      " Layer (type)                Output Shape              Param #   \n",
      "=================================================================\n",
      " input_2 (InputLayer)        [(None, 224, 224, 3)]     0         \n",
      "                                                                 \n",
      " block1_conv1 (Conv2D)       (None, 224, 224, 64)      1792      \n",
      "                                                                 \n",
      " block1_conv2 (Conv2D)       (None, 224, 224, 64)      36928     \n",
      "                                                                 \n",
      " block1_pool (MaxPooling2D)  (None, 112, 112, 64)      0         \n",
      "                                                                 \n",
      " block2_conv1 (Conv2D)       (None, 112, 112, 128)     73856     \n",
      "                                                                 \n",
      " block2_conv2 (Conv2D)       (None, 112, 112, 128)     147584    \n",
      "                                                                 \n",
      " block2_pool (MaxPooling2D)  (None, 56, 56, 128)       0         \n",
      "                                                                 \n",
      " block3_conv1 (Conv2D)       (None, 56, 56, 256)       295168    \n",
      "                                                                 \n",
      " block3_conv2 (Conv2D)       (None, 56, 56, 256)       590080    \n",
      "                                                                 \n",
      " block3_conv3 (Conv2D)       (None, 56, 56, 256)       590080    \n",
      "                                                                 \n",
      " block3_pool (MaxPooling2D)  (None, 28, 28, 256)       0         \n",
      "                                                                 \n",
      " block4_conv1 (Conv2D)       (None, 28, 28, 512)       1180160   \n",
      "                                                                 \n",
      " block4_conv2 (Conv2D)       (None, 28, 28, 512)       2359808   \n",
      "                                                                 \n",
      " block4_conv3 (Conv2D)       (None, 28, 28, 512)       2359808   \n",
      "                                                                 \n",
      " block4_pool (MaxPooling2D)  (None, 14, 14, 512)       0         \n",
      "                                                                 \n",
      " block5_conv1 (Conv2D)       (None, 14, 14, 512)       2359808   \n",
      "                                                                 \n",
      " block5_conv2 (Conv2D)       (None, 14, 14, 512)       2359808   \n",
      "                                                                 \n",
      " block5_conv3 (Conv2D)       (None, 14, 14, 512)       2359808   \n",
      "                                                                 \n",
      " block5_pool (MaxPooling2D)  (None, 7, 7, 512)         0         \n",
      "                                                                 \n",
      " flatten (Flatten)           (None, 25088)             0         \n",
      "                                                                 \n",
      " dense (Dense)               (None, 2)                 50178     \n",
      "                                                                 \n",
      "=================================================================\n",
      "Total params: 14764866 (56.32 MB)\n",
      "Trainable params: 50178 (196.01 KB)\n",
      "Non-trainable params: 14714688 (56.13 MB)\n",
      "_________________________________________________________________\n"
     ]
    }
   ],
   "source": [
    "prediction = Dense(len(folders), activation='softmax')(x)\n",
    "\n",
    "# create a model object...\n",
    "model = Model(inputs=vgg.input, outputs=prediction)\n",
    "\n",
    "# view the structure of the model...\n",
    "model.summary()"
   ]
  },
  {
   "cell_type": "code",
   "execution_count": 13,
   "id": "c5492707-2e26-408d-a55c-5f808c1894ed",
   "metadata": {},
   "outputs": [],
   "source": [
    "model.compile(\n",
    "    loss = 'categorical_crossentropy',\n",
    "    optimizer = 'adam',\n",
    "    metrics = ['accuracy']\n",
    ")"
   ]
  },
  {
   "cell_type": "markdown",
   "id": "bf6d1d4b-0018-4341-bb66-cd82fb7a1385",
   "metadata": {},
   "source": [
    "# Importing ImageDataGenerator"
   ]
  },
  {
   "cell_type": "code",
   "execution_count": 14,
   "id": "1ce23a96-97e9-45fd-a056-c2f2a11abe96",
   "metadata": {},
   "outputs": [],
   "source": [
    "from keras.preprocessing.image import ImageDataGenerator"
   ]
  },
  {
   "cell_type": "code",
   "execution_count": 15,
   "id": "847f6106-feb7-4165-bf60-cd0df113c096",
   "metadata": {},
   "outputs": [],
   "source": [
    "train_datagen = ImageDataGenerator(rescale = 1./255,\n",
    "                                  shear_range = 0.2,\n",
    "                                  zoom_range = 0.2,\n",
    "                                  horizontal_flip = True)\n",
    "\n",
    "test_datagen = ImageDataGenerator(rescale = 1./255)"
   ]
  },
  {
   "cell_type": "markdown",
   "id": "04ac699a-ec5d-48e5-90dd-938467bcc6cf",
   "metadata": {},
   "source": [
    "# Make sure you provide the same target size as initialized for the Image size..."
   ]
  },
  {
   "cell_type": "code",
   "execution_count": 16,
   "id": "1d19f2ce-0ff6-4164-bb05-d32c5777b649",
   "metadata": {},
   "outputs": [
    {
     "name": "stdout",
     "output_type": "stream",
     "text": [
      "Found 5216 images belonging to 2 classes.\n",
      "Found 624 images belonging to 2 classes.\n",
      "522 63\n"
     ]
    }
   ],
   "source": [
    "training_set = train_datagen.flow_from_directory(\"chest x-ray images/train\",\n",
    "                                                target_size = (224, 224),\n",
    "                                                batch_size = 10,\n",
    "                                                class_mode = 'categorical')\n",
    "\n",
    "test_set = test_datagen.flow_from_directory(\"chest x-ray images/test\",\n",
    "                                           target_size = (224, 224),\n",
    "                                           batch_size = 10,\n",
    "                                           class_mode = 'categorical')\n",
    "\n",
    "\n",
    "print(len(training_set), len(test_set))"
   ]
  },
  {
   "cell_type": "code",
   "execution_count": 17,
   "id": "5dc0d51c-2456-434a-b70a-e1d7603f86b4",
   "metadata": {},
   "outputs": [
    {
     "name": "stdout",
     "output_type": "stream",
     "text": [
      "WARNING:tensorflow:From C:\\Users\\RaviM\\AppData\\Local\\Programs\\Python\\Python311\\Lib\\site-packages\\keras\\src\\utils\\tf_utils.py:492: The name tf.ragged.RaggedTensorValue is deprecated. Please use tf.compat.v1.ragged.RaggedTensorValue instead.\n",
      "\n",
      "WARNING:tensorflow:From C:\\Users\\RaviM\\AppData\\Local\\Programs\\Python\\Python311\\Lib\\site-packages\\keras\\src\\engine\\base_layer_utils.py:384: The name tf.executing_eagerly_outside_functions is deprecated. Please use tf.compat.v1.executing_eagerly_outside_functions instead.\n",
      "\n",
      "522/522 [==============================] - 702s 1s/step - loss: 0.2030 - accuracy: 0.9312 - val_loss: 0.6987 - val_accuracy: 0.8093\n"
     ]
    }
   ],
   "source": [
    "r = model.fit_generator(\n",
    "    training_set,\n",
    "    validation_data = test_set,\n",
    "    epochs = 1,\n",
    "    steps_per_epoch = len(training_set),\n",
    "    validation_steps = len(test_set)\n",
    ")"
   ]
  },
  {
   "cell_type": "code",
   "execution_count": 18,
   "id": "64516bb6-916a-49c9-8e2d-0c2843580d7d",
   "metadata": {},
   "outputs": [],
   "source": [
    "import tensorflow as tf\n",
    "from keras.models import load_model\n",
    "\n",
    "model.save('chest_xray.h5')"
   ]
  },
  {
   "cell_type": "code",
   "execution_count": 19,
   "id": "9d1c33af-290b-4abc-97d9-99c0483ccb62",
   "metadata": {},
   "outputs": [],
   "source": [
    "from keras.models import load_model"
   ]
  },
  {
   "cell_type": "code",
   "execution_count": 20,
   "id": "be2a1d96-c3b8-4f8b-9fde-0a11bad67f7d",
   "metadata": {},
   "outputs": [],
   "source": [
    "from keras.preprocessing import image"
   ]
  },
  {
   "cell_type": "code",
   "execution_count": 21,
   "id": "7ece70db-9d8a-441c-af9b-2912c69f5c3a",
   "metadata": {},
   "outputs": [],
   "source": [
    "from keras.applications.vgg16 import preprocess_input"
   ]
  },
  {
   "cell_type": "code",
   "execution_count": 23,
   "id": "b37f0b30-a4df-4162-8720-0eeb8b746265",
   "metadata": {},
   "outputs": [],
   "source": [
    "import numpy as np"
   ]
  },
  {
   "cell_type": "code",
   "execution_count": 23,
   "id": "4a2f7088-e40d-4e5e-ac33-93c7ea9f43db",
   "metadata": {},
   "outputs": [],
   "source": [
    "model = load_model('chest_xray.h5')"
   ]
  },
  {
   "cell_type": "code",
   "execution_count": 24,
   "id": "efbf4370-a069-4e04-90fb-8fa584afe6a3",
   "metadata": {},
   "outputs": [],
   "source": [
    "img = image.load_img(\"E:\\\\Pneumonia Detection using X- Ray Images\\\\chest x-ray images\\\\val\\\\PNEUMONIA\\\\person1947_bacteria_4876.jpeg\", target_size = (224,224))"
   ]
  },
  {
   "cell_type": "code",
   "execution_count": 25,
   "id": "2fcdac74-01fa-47e5-9c44-8b1744bd6ee4",
   "metadata": {},
   "outputs": [],
   "source": [
    "x = image.img_to_array(img)"
   ]
  },
  {
   "cell_type": "code",
   "execution_count": 26,
   "id": "d5b67f4a-b2b3-4037-b4d3-31b3c4a76b2e",
   "metadata": {},
   "outputs": [],
   "source": [
    "x = np.expand_dims(x, axis=0)"
   ]
  },
  {
   "cell_type": "code",
   "execution_count": 27,
   "id": "76efce81-217e-462b-b79b-65b6f68f661a",
   "metadata": {},
   "outputs": [],
   "source": [
    "img_data = preprocess_input(x)"
   ]
  },
  {
   "cell_type": "code",
   "execution_count": 28,
   "id": "dc7f5eda-a25f-45b7-9835-e8ecbd570668",
   "metadata": {},
   "outputs": [
    {
     "name": "stdout",
     "output_type": "stream",
     "text": [
      "1/1 [==============================] - 1s 593ms/step\n"
     ]
    }
   ],
   "source": [
    "classes = model.predict(img_data)"
   ]
  },
  {
   "cell_type": "code",
   "execution_count": 29,
   "id": "61183615-fc45-439b-85f0-f492fdab31f6",
   "metadata": {},
   "outputs": [
    {
     "data": {
      "text/plain": [
       "array([[0., 1.]], dtype=float32)"
      ]
     },
     "execution_count": 29,
     "metadata": {},
     "output_type": "execute_result"
    }
   ],
   "source": [
    "classes\n",
    "\n",
    "# for normal folder, index will be 1..\n",
    "# for pneumonia folder, index will be 0.."
   ]
  },
  {
   "cell_type": "code",
   "execution_count": 30,
   "id": "5e9cd5ac-8195-4d46-a0b6-6ebedaac3d4d",
   "metadata": {},
   "outputs": [
    {
     "data": {
      "text/plain": [
       "0.0"
      ]
     },
     "execution_count": 30,
     "metadata": {},
     "output_type": "execute_result"
    }
   ],
   "source": [
    "result = classes[0][0]\n",
    "result"
   ]
  },
  {
   "cell_type": "code",
   "execution_count": 31,
   "id": "d069f453-cbd9-4478-82e1-57d5814f1164",
   "metadata": {},
   "outputs": [
    {
     "name": "stdout",
     "output_type": "stream",
     "text": [
      "Person is affected by pneumonia\n"
     ]
    }
   ],
   "source": [
    "if(result > 0.5):\n",
    "    print(\"Result is Normal\")\n",
    "else:\n",
    "    print(\"Person is affected by pneumonia\")"
   ]
  }
 ],
 "metadata": {
  "kernelspec": {
   "display_name": "Python 3 (ipykernel)",
   "language": "python",
   "name": "python3"
  },
  "language_info": {
   "codemirror_mode": {
    "name": "ipython",
    "version": 3
   },
   "file_extension": ".py",
   "mimetype": "text/x-python",
   "name": "python",
   "nbconvert_exporter": "python",
   "pygments_lexer": "ipython3",
   "version": "3.11.4"
  }
 },
 "nbformat": 4,
 "nbformat_minor": 5
}
